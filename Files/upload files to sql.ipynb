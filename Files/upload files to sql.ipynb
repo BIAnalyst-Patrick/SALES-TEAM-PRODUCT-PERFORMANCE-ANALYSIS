{
 "cells": [
  {
   "cell_type": "code",
   "execution_count": 14,
   "metadata": {},
   "outputs": [],
   "source": [
    "import pymysql\n",
    "import pandas as pd"
   ]
  },
  {
   "cell_type": "code",
   "execution_count": 15,
   "metadata": {},
   "outputs": [],
   "source": [
    "# Database connection details\n",
    "DB_NAME = \"CRM_Sales_Opportunities\"\n",
    "DB_USER = \"root\"\n",
    "DB_PASSWORD = \"Kenya2025!\"\n",
    "DB_HOST = \"127.0.0.1\""
   ]
  },
  {
   "cell_type": "code",
   "execution_count": 16,
   "metadata": {},
   "outputs": [
    {
     "name": "stdout",
     "output_type": "stream",
     "text": [
      "Connecting to MySQL...\n",
      "Connected successfully.\n"
     ]
    }
   ],
   "source": [
    "# Connect to MySQL\n",
    "print(\"Connecting to MySQL...\")\n",
    "conn = pymysql.connect(host=DB_HOST, user=DB_USER, password=DB_PASSWORD)\n",
    "cursor = conn.cursor()\n",
    "print(\"Connected successfully.\")"
   ]
  },
  {
   "cell_type": "code",
   "execution_count": 21,
   "metadata": {},
   "outputs": [
    {
     "name": "stdout",
     "output_type": "stream",
     "text": [
      "Creating database CRM_Sales_Opportunities if not exists...\n",
      "Using database CRM_Sales_Opportunities.\n"
     ]
    }
   ],
   "source": [
    "# Create Database if not exists\n",
    "print(f\"Creating database {DB_NAME} if not exists...\")\n",
    "cursor.execute(f\"CREATE DATABASE IF NOT EXISTS {DB_NAME};\")\n",
    "cursor.execute(f\"USE {DB_NAME};\")\n",
    "print(f\"Using database {DB_NAME}.\")"
   ]
  },
  {
   "cell_type": "code",
   "execution_count": 17,
   "metadata": {},
   "outputs": [],
   "source": [
    "# Function to insert DataFrame into MySQL\n",
    "def insert_data(table_name, df):\n",
    "    if df.empty:\n",
    "        print(f\"No data to insert for {table_name}.\")\n",
    "        return\n",
    "    \n",
    "    df = df.where(pd.notnull(df), None)  # Replace NaN with None for MySQL compatibility\n",
    "    cols = \", \".join(df.columns)\n",
    "    placeholders = \", \".join([\"%s\"] * len(df.columns))\n",
    "    sql = f\"INSERT INTO {table_name} ({cols}) VALUES ({placeholders});\"\n",
    "    \n",
    "    # Convert all NaN/None values explicitly before insertion\n",
    "    data = [tuple(None if pd.isna(value) else value for value in row) for row in df.values.tolist()]\n",
    "    \n",
    "    cursor.executemany(sql, data)\n",
    "    conn.commit()\n",
    "    print(f\"Data inserted into {table_name} successfully.\")"
   ]
  },
  {
   "cell_type": "code",
   "execution_count": 18,
   "metadata": {},
   "outputs": [],
   "source": [
    "# File path\n",
    "folder_path = \"D:/Documents/Data Analysis/Maven Analytics/CRM+Sales+Opportunities/\""
   ]
  },
  {
   "cell_type": "code",
   "execution_count": 19,
   "metadata": {},
   "outputs": [
    {
     "name": "stdout",
     "output_type": "stream",
     "text": [
      "Loading CSV files...\n",
      "CSV files loaded successfully.\n"
     ]
    }
   ],
   "source": [
    "# Load CSV files\n",
    "print(\"Loading CSV files...\")\n",
    "df_accounts = pd.read_csv(folder_path + \"accounts.csv\").dropna(how='all')\n",
    "df_products = pd.read_csv(folder_path + \"products.csv\").dropna(how='all')\n",
    "df_sales_pipeline = pd.read_csv(folder_path + \"sales_pipeline.csv\").dropna(how='all')\n",
    "df_sales_teams = pd.read_csv(folder_path + \"sales_teams.csv\").dropna(how='all')\n",
    "print(\"CSV files loaded successfully.\")"
   ]
  },
  {
   "cell_type": "code",
   "execution_count": 22,
   "metadata": {},
   "outputs": [
    {
     "name": "stdout",
     "output_type": "stream",
     "text": [
      "Inserting data into accounts...\n",
      "Data inserted into accounts successfully.\n",
      "Insertion into accounts completed.\n",
      "Inserting data into products...\n",
      "Data inserted into products successfully.\n",
      "Insertion into products completed.\n",
      "Inserting data into sales_pipeline...\n",
      "Data inserted into sales_pipeline successfully.\n",
      "Insertion into sales_pipeline completed.\n",
      "Inserting data into sales_teams...\n",
      "Data inserted into sales_teams successfully.\n",
      "Insertion into sales_teams completed.\n"
     ]
    }
   ],
   "source": [
    "# Insert data into MySQL\n",
    "tables = {\"accounts\": df_accounts, \"products\": df_products, \"sales_pipeline\": df_sales_pipeline, \"sales_teams\": df_sales_teams}\n",
    "for table, df in tables.items():\n",
    "    print(f\"Inserting data into {table}...\")\n",
    "    insert_data(table, df)\n",
    "    print(f\"Insertion into {table} completed.\")"
   ]
  },
  {
   "cell_type": "code",
   "execution_count": 23,
   "metadata": {},
   "outputs": [
    {
     "name": "stdout",
     "output_type": "stream",
     "text": [
      "Closing database connection...\n",
      "Connection closed successfully.\n"
     ]
    }
   ],
   "source": [
    "# Close connection\n",
    "print(\"Closing database connection...\")\n",
    "cursor.close()\n",
    "conn.close()\n",
    "print(\"Connection closed successfully.\")\n"
   ]
  }
 ],
 "metadata": {
  "kernelspec": {
   "display_name": "Python 3",
   "language": "python",
   "name": "python3"
  },
  "language_info": {
   "codemirror_mode": {
    "name": "ipython",
    "version": 3
   },
   "file_extension": ".py",
   "mimetype": "text/x-python",
   "name": "python",
   "nbconvert_exporter": "python",
   "pygments_lexer": "ipython3",
   "version": "3.13.2"
  }
 },
 "nbformat": 4,
 "nbformat_minor": 2
}
